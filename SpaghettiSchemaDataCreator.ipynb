{
 "cells": [
  {
   "cell_type": "code",
   "execution_count": 139,
   "metadata": {},
   "outputs": [],
   "source": [
    "# Import Required Libraries\n",
    "import pandas as pd\n",
    "import numpy as np\n",
    "from faker import Faker\n",
    "\n",
    "fake = Faker()"
   ]
  },
  {
   "cell_type": "code",
   "execution_count": 140,
   "metadata": {},
   "outputs": [
    {
     "name": "stderr",
     "output_type": "stream",
     "text": [
      "C:\\Users\\murta\\AppData\\Local\\Temp\\ipykernel_2256\\536781932.py:2: DtypeWarning: Columns (14) have mixed types. Specify dtype option on import or set low_memory=False.\n",
      "  FactTable = pd.read_csv(\"data/FactTable.csv\", parse_dates=['dimDateServicePK'], dayfirst=True)\n"
     ]
    }
   ],
   "source": [
    "# Create the Billing Table\n",
    "FactTable = pd.read_csv(\"data/FactTable.csv\", parse_dates=['dimDateServicePK'], dayfirst=True)\n",
    "DimHospital = pd.read_csv(\"data/DimHospital.csv\")\n",
    "Billing = pd.merge(FactTable, DimHospital, on='dimLocationPK', how='left')\n",
    "\n",
    "# Apply Transformations\n",
    "Billing[\"PaymentRecieved\"] = Billing[\"Patient_Payment\"] + Billing[\"AR\"]\n",
    "Billing[\"DiagnosisReportRef\"] = \"DIAG-\" + Billing[\"FactTablePK\"].astype(str)\n",
    "Billing[\"ServiceReportRef\"] = \"SERV-\" + Billing[\"FactTablePK\"].astype(str)\n",
    "\n",
    "column_mapping = {\n",
    "    \"FactTablePK\" : \"BillNbr\",\n",
    "    \"dimDatePostPK\" : \"BillDate\",\n",
    "    \"dimPatientPK\" : \"PatientNbr\",\n",
    "    \"dimPhysicianPK\" : \"ProviderNbr\",\n",
    "    \"LocationName\" : \"Facility\",\n",
    "    \"Gross Expenses\" : \"BillAmount\",\n",
    "    \"Insurance_Payment\" : \"InsuranceCoverage\"\n",
    "}\n",
    "\n",
    "# Rename Columns\n",
    "Billing = Billing.rename(columns=column_mapping)\n",
    "\n",
    "# Select Columns\n",
    "Billing = Billing[[\"BillNbr\", \"BillDate\", \"PatientNbr\", \"ProviderNbr\", \"Facility\", \"DiagnosisReportRef\", \"ServiceReportRef\", \"BillAmount\", \"InsuranceCoverage\", \"PaymentRecieved\"]]\n",
    "\n",
    "# Write the new Data to CSV File\n",
    "Billing.to_csv('Spaghetti/Billing.csv', index=False)"
   ]
  },
  {
   "cell_type": "code",
   "execution_count": 141,
   "metadata": {},
   "outputs": [],
   "source": [
    "# Create the Patient Table\n",
    "DimPatient = pd.read_csv(\"data/DimPatient.csv\")\n",
    "MinServiceDate = FactTable.groupby(\"dimPatientPK\").agg({\"dimDateServicePK\": \"min\"}).reset_index()\n",
    "Patient = pd.merge(DimPatient, MinServiceDate, on='dimPatientPK', how='left')\n",
    "\n",
    "# Apply Transformations\n",
    "Patient.rename(columns={\"Year of Birth\": \"year\", \"Month\": \"month\", \"Day\": \"day\"}, inplace=True)\n",
    "Patient[\"DOB\"] = pd.to_datetime(Patient[[\"year\", \"month\", \"day\"]])\n",
    "Patient[\"RegistrationDate\"] = Patient[\"dimDateServicePK\"] - pd.to_timedelta(np.random.randint(1, 10, size=len(Patient)), unit='days')\n",
    "Patient[[\"Address1\", \"Address2\"]] = Patient.apply(lambda _: pd.Series([fake.secondary_address(), fake.street_address()]), axis=1)\n",
    "\n",
    "column_mapping = {\n",
    "    \"dimPatientPK\" : \"PatientNbr\",\n",
    "    \"PatientNumber\" : \"HealthCardNbr\",\n",
    "    \"PatientGender\" : \"Gender\",\n",
    "    \"Zip Codes\" : \"Zip\"\n",
    "}\n",
    "\n",
    "# Rename Columns\n",
    "Patient = Patient.rename(columns=column_mapping)\n",
    "\n",
    "# Select Columns\n",
    "Patient = Patient[[\"PatientNbr\", \"RegistrationDate\", \"HealthCardNbr\", \"FirstName\", \"LastName\", \"Email\", \"Gender\", \"DOB\", \"Address1\", \"Address2\", \"City\", \"State\", \"Zip\"]]\n",
    "\n",
    "# Write the new Data to CSV File\n",
    "Patient.to_csv('Spaghetti/Patient.csv', index=False)"
   ]
  }
 ],
 "metadata": {
  "kernelspec": {
   "display_name": "Python 3",
   "language": "python",
   "name": "python3"
  },
  "language_info": {
   "codemirror_mode": {
    "name": "ipython",
    "version": 3
   },
   "file_extension": ".py",
   "mimetype": "text/x-python",
   "name": "python",
   "nbconvert_exporter": "python",
   "pygments_lexer": "ipython3",
   "version": "3.10.10"
  }
 },
 "nbformat": 4,
 "nbformat_minor": 2
}
