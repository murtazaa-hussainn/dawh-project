{
 "cells": [
  {
   "cell_type": "code",
   "execution_count": 4,
   "metadata": {},
   "outputs": [],
   "source": [
    "# Import Required Libraries\n",
    "import pandas as pd\n",
    "import numpy as np"
   ]
  },
  {
   "cell_type": "code",
   "execution_count": 5,
   "metadata": {},
   "outputs": [],
   "source": [
    "# Add anomalies to the Patient Table\n",
    "Patient = pd.read_csv(\"Spaghetti/Patient.csv\")\n",
    "\n",
    "# Add Full Name in First Name\n",
    "FullNameFirst = Patient.sample(frac=0.04, random_state=42)\n",
    "FullNameFirst[\"FirstName\"] = FullNameFirst[\"FirstName\"] + \" \" +  FullNameFirst[\"LastName\"]\n",
    "FullNameFirst[\"LastName\"] = \"\"\n",
    "\n",
    "# Add Full Name in Last Name\n",
    "FullNameLast = Patient.drop(FullNameFirst.index).sample(frac=0.06, random_state=42)\n",
    "FullNameLast[\"LastName\"] = FullNameLast[\"FirstName\"] + \" \" +  FullNameLast[\"LastName\"]\n",
    "FullNameLast[\"FirstName\"] = \"\"\n",
    "\n",
    "Patient.update(FullNameFirst)\n",
    "Patient.update(FullNameLast)\n",
    "\n",
    "# Update the gender values for \"Others\" and \"Unknown\"\n",
    "Patient.loc[np.random.choice(Patient.index, size=int(0.08 * len(Patient)), replace=False), 'Gender'] = np.random.choice(['Other', 'O'], size=int(0.08 * len(Patient)))\n",
    "Patient.loc[np.random.choice(Patient.index, size=int(0.04 * len(Patient)), replace=False), 'Gender'] = np.random.choice(['Unknown', 'U', 'UNK'], size=int(0.04 * len(Patient)))\n",
    "Patient.loc[np.random.choice(Patient[(Patient['Gender'] == 'Male')].index, size=int(0.30 * len(Patient[(Patient['Gender'] == 'Male')].index)), replace=False), 'Gender'] = 'M'\n",
    "Patient.loc[np.random.choice(Patient[(Patient['Gender'] == 'Female')].index, size=int(0.40 * len(Patient[(Patient['Gender'] == 'Female')].index)), replace=False), 'Gender'] = 'F'\n",
    "\n",
    "# Remove State Values\n",
    "NoState = Patient.sample(frac=0.1, random_state=42)\n",
    "NoState[\"State\"] = \"\"\n",
    "\n",
    "# Remove StateCode Values\n",
    "NoStateCode = Patient.drop(NoState.index).sample(frac=0.3, random_state=42)\n",
    "NoStateCode[\"StateCode\"] = \"\"\n",
    "\n",
    "Patient.update(NoState)\n",
    "Patient.update(NoStateCode)\n",
    "\n",
    "# Write the new Data to CSV File\n",
    "Patient.to_csv('AnomalySpaghetti/Patient.csv', index=False)"
   ]
  },
  {
   "cell_type": "code",
   "execution_count": 6,
   "metadata": {},
   "outputs": [],
   "source": [
    "# Add anomalies to the PatientSurvey Table\n",
    "PatientSurvey = pd.read_csv(\"Spaghetti/PatientSurvey.csv\")\n",
    "\n",
    "# Remove HeightCms\n",
    "NoHeightCms = PatientSurvey.sample(frac=0.35, random_state=42)\n",
    "PatientSurvey.loc[NoHeightCms.index, \"HeightCms\"] = np.nan\n",
    "\n",
    "# Remove HeightIn\n",
    "NoHeightIn = PatientSurvey.drop(NoHeightCms.index).sample(frac=0.08, random_state=42)\n",
    "PatientSurvey.loc[NoHeightIn.index, \"HeightIn\"] = np.nan\n",
    "\n",
    "# Remove WeightLbs\n",
    "NoWeightLbs = PatientSurvey.sample(frac=0.10, random_state=42)\n",
    "PatientSurvey.loc[NoWeightLbs.index, \"WeightLbs\"] = np.nan\n",
    "\n",
    "# Remove WeightKgs\n",
    "NoWeightKgs = PatientSurvey.drop(NoWeightLbs.index).sample(frac=0.45, random_state=42)\n",
    "PatientSurvey.loc[NoWeightKgs.index, \"WeightKgs\"] = np.nan\n",
    "\n",
    "PatientSurvey.loc[PatientSurvey[\"ExerciseFrequency\"] == \"Yes\", \"ExerciseFrequency\"] = np.random.choice([\"Daily\", \"Weekly\"], size=(PatientSurvey[\"ExerciseFrequency\"] == \"Yes\").sum())\n",
    "PatientSurvey.loc[PatientSurvey[\"ExerciseFrequency\"] == \"No\", \"ExerciseFrequency\"] = np.random.choice([\"Bi-Weekly\", \"Monthly\", \"Ocassionally\"], size=(PatientSurvey[\"ExerciseFrequency\"] == \"No\").sum())\n",
    "\n",
    "# Write the new Data to CSV File\n",
    "PatientSurvey.to_csv('AnomalySpaghetti/PatientSurvey.csv', index=False)"
   ]
  }
 ],
 "metadata": {
  "kernelspec": {
   "display_name": "Python 3",
   "language": "python",
   "name": "python3"
  },
  "language_info": {
   "codemirror_mode": {
    "name": "ipython",
    "version": 3
   },
   "file_extension": ".py",
   "mimetype": "text/x-python",
   "name": "python",
   "nbconvert_exporter": "python",
   "pygments_lexer": "ipython3",
   "version": "3.10.10"
  }
 },
 "nbformat": 4,
 "nbformat_minor": 2
}
