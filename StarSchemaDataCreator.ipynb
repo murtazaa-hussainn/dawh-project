{
 "cells": [
  {
   "cell_type": "code",
   "execution_count": 1,
   "metadata": {},
   "outputs": [],
   "source": [
    "# Import Required Libraries\n",
    "import pandas as pd"
   ]
  },
  {
   "cell_type": "code",
   "execution_count": 2,
   "metadata": {},
   "outputs": [
    {
     "name": "stderr",
     "output_type": "stream",
     "text": [
      "C:\\Users\\murta\\AppData\\Local\\Temp\\ipykernel_6436\\1681908039.py:2: DtypeWarning: Columns (14) have mixed types. Specify dtype option on import or set low_memory=False.\n",
      "  FactTransactions = pd.read_csv(\"data/FactTable.csv\")\n"
     ]
    }
   ],
   "source": [
    "# Create the FactTransactions Table\n",
    "FactTransactions = pd.read_csv(\"data/FactTable.csv\")\n",
    "\n",
    "# Apply Transformations\n",
    "FactTransactions[\"Patient_Payment\"] = FactTransactions[\"Patient_Payment\"] + FactTransactions[\"AR\"]\n",
    "\n",
    "column_mapping = {\n",
    "    \"FactTablePK\" : \"TransactionID\",\n",
    "    \"dimPatientPK\" : \"PatientID\",\n",
    "    \"dimPhysicianPK\" : \"PhysicianID\",\n",
    "    \"dimLocationPK\" : \"HospitalID\",\n",
    "    \"dimDiagnosisCodePK\" : \"DiagnosisCodeID\",\n",
    "    \"dimCPTCodePK\" : \"CPTCodeID\",\n",
    "    \"dimDateServicePK\" : \"ServiceDate\",\n",
    "    \"dimDatePostPK\" : \"PaymentDate\",\n",
    "    \"CPTUnits\" : \"CPTUnits\",\n",
    "    \"Gross Expenses\" : \"BilledAmount\",\n",
    "    \"Insurance_Payment\" : \"InsurancePayment\",\n",
    "    \"Patient_Payment\": \"PatientPayment\"\n",
    "}\n",
    "\n",
    "# Rename Columns\n",
    "FactTransactions = FactTransactions.rename(columns=column_mapping)\n",
    "\n",
    "# Select Columns\n",
    "FactTransactions = FactTransactions[[\"TransactionID\", \"PatientID\", \"PhysicianID\", \"HospitalID\", \"DiagnosisCodeID\", \"CPTCodeID\", \"ServiceDate\", \"PaymentDate\", \"CPTUnits\", \"BilledAmount\", \"InsurancePayment\", \"PatientPayment\"]]\n",
    "\n",
    "# Write the new Data to CSV File\n",
    "FactTransactions.to_csv('StarSchema/FactTransactions.csv', index=False)"
   ]
  },
  {
   "cell_type": "code",
   "execution_count": 3,
   "metadata": {},
   "outputs": [],
   "source": [
    "# Create the DimPatient Table\n",
    "DimPatient = pd.read_csv(\"data/DimPatient.csv\")\n",
    "\n",
    "column_mapping = {\n",
    "    \"dimPatientPK\" : \"PatientID\",\n",
    "    \"PatientNumber\" : \"HealthCardNumber\",\n",
    "    \"FirstName\" : \"FirstName\",\n",
    "    \"LastName\" : \"LastName\",\n",
    "    \"Email\" : \"Email\",\n",
    "    \"PatientGender\" : \"Gender\",\n",
    "    \"PatientAge\" : \"Age\",\n",
    "    \"PatientHeight(in cms)\" : \"Height(cms)\",\n",
    "    \"BloodGroup\" : \"BloodGroup\",\n",
    "    \"Tobacco\" : \"Tobacco\",\n",
    "    \"Alcohol\" : \"Alcohol\",\n",
    "    \"Exercise\" : \"Exercise\",\n",
    "    \"Diet\" : \"Diet\",\n",
    "    \"Ethinicity\" : \"Ethinicity\",\n",
    "    \"Zip Codes\" : \"ZipCode\",\n",
    "    \"City\" : \"City\",\n",
    "    \"State\" : \"State\",\n",
    "    \"State Code\" : \"StateCode\",\n",
    "    \"Region\" : \"Region\"\n",
    "}\n",
    "\n",
    "# Rename Columns\n",
    "DimPatient = DimPatient.rename(columns=column_mapping)\n",
    "\n",
    "# Select Columns\n",
    "DimPatient = DimPatient[[\"PatientID\", \"HealthCardNumber\", \"FirstName\", \"LastName\", \"Email\", \"Gender\", \"Age\", \"Height(cms)\", \"BloodGroup\", \"Tobacco\", \"Alcohol\", \"Exercise\", \"Diet\", \"Ethinicity\", \"ZipCode\", \"City\", \"State\", \"StateCode\", \"Region\"]]\n",
    "\n",
    "# Write the new Data to CSV File\n",
    "DimPatient.to_csv('StarSchema/DimPatient.csv', index=False)"
   ]
  },
  {
   "cell_type": "code",
   "execution_count": 4,
   "metadata": {},
   "outputs": [],
   "source": [
    "# Create the DimPhysician Table\n",
    "DimPhysician = pd.read_csv(\"data/DimPhysician.csv\")\n",
    "DimSpeciality = pd.read_csv(\"data/DimSpeciality.csv\")\n",
    "\n",
    "# Apply Transformations\n",
    "DimPhysician = pd.merge(DimPhysician, DimSpeciality, on='SpecialityCode', how='left')\n",
    "\n",
    "column_mapping = {\n",
    "    \"dimPhysicianPK\" : \"ProviderID\",\n",
    "    \"ProviderNpi\" : \"NPI\",\n",
    "    \"ProviderName\" : \"ProviderName\",\n",
    "    \"ProviderFTE\" : \"FTE\",\n",
    "    \"ProviderSpecialty\" : \"ProviderType\",\n",
    "    \"SpecialityType\" : \"SpecialityType\"\n",
    "}\n",
    "\n",
    "# Rename Columns\n",
    "DimPhysician = DimPhysician.rename(columns=column_mapping)\n",
    "\n",
    "# Select Columns\n",
    "DimPhysician = DimPhysician[[\"ProviderID\", \"NPI\", \"ProviderName\", \"FTE\", \"ProviderType\", \"SpecialityType\"]]\n",
    "\n",
    "# Write the new Data to CSV File\n",
    "DimPhysician.to_csv('StarSchema/DimPhysician.csv', index=False)"
   ]
  },
  {
   "cell_type": "code",
   "execution_count": 5,
   "metadata": {},
   "outputs": [],
   "source": [
    "# Create the FactTransactions Table\n",
    "DimHospital = pd.read_csv(\"data/DimHospital.csv\")\n",
    "\n",
    "column_mapping = {\n",
    "    \"dimLocationPK\" : \"HospitalID\",\n",
    "    \"LocationName\" : \"HospitalName\"\n",
    "}\n",
    "\n",
    "# Rename Columns\n",
    "DimHospital = DimHospital.rename(columns=column_mapping)\n",
    "\n",
    "# Select Columns\n",
    "DimHospital = DimHospital[[\"HospitalID\", \"HospitalName\"]]\n",
    "\n",
    "# Write the new Data to CSV File\n",
    "DimHospital.to_csv('StarSchema/DimHospital.csv', index=False)"
   ]
  },
  {
   "cell_type": "code",
   "execution_count": 6,
   "metadata": {},
   "outputs": [],
   "source": [
    "# Create the DimDiagnosisCode Table\n",
    "DimDiagnosisCode = pd.read_csv(\"data/DimDiagnosisCode.csv\")\n",
    "\n",
    "column_mapping = {\n",
    "    \"dimDiagnosisCodePK\" : \"DiagnosisCodeID\",\n",
    "    \"DiagnosisCode\" : \"DiagnosisCode\",\n",
    "    \"DiagnosisCodeDescription\" : \"DiagnosisCodeDescription\",\n",
    "    \"DiagnosisCodeGroup\" : \"DiagnosisCodeGroup\"\n",
    "}\n",
    "\n",
    "# Rename Columns\n",
    "DimDiagnosisCode = DimDiagnosisCode.rename(columns=column_mapping)\n",
    "\n",
    "# Select Columns\n",
    "DimDiagnosisCode = DimDiagnosisCode[[\"DiagnosisCodeID\", \"DiagnosisCode\", \"DiagnosisCodeDescription\", \"DiagnosisCodeGroup\"]]\n",
    "\n",
    "# Write the new Data to CSV File\n",
    "DimDiagnosisCode.to_csv('StarSchema/DimDiagnosisCode.csv', index=False)"
   ]
  },
  {
   "cell_type": "code",
   "execution_count": 7,
   "metadata": {},
   "outputs": [],
   "source": [
    "# Create the DimCPTCode Table\n",
    "DimCPTCode = pd.read_csv(\"data/DimCPTCode.csv\")\n",
    "\n",
    "column_mapping = {\n",
    "    \"dimCPTCodePK\" : \"CPTCodeID\",\n",
    "    \"CptCode\" : \"CPTCode\",\n",
    "    \"CptDesc\" : \"CPTCodeDescription\",\n",
    "    \"CptGrouping\" : \"CPTCodeGroup\",\n",
    "}\n",
    "\n",
    "# Rename Columns\n",
    "DimCPTCode = DimCPTCode.rename(columns=column_mapping)\n",
    "\n",
    "# Select Columns\n",
    "DimCPTCode = DimCPTCode[[\"CPTCodeID\", \"CPTCode\", \"CPTCodeDescription\", \"CPTCodeGroup\"]]\n",
    "\n",
    "# Write the new Data to CSV File\n",
    "DimCPTCode.to_csv('StarSchema/DimCPTCode.csv', index=False)"
   ]
  }
 ],
 "metadata": {
  "kernelspec": {
   "display_name": "Python 3",
   "language": "python",
   "name": "python3"
  },
  "language_info": {
   "codemirror_mode": {
    "name": "ipython",
    "version": 3
   },
   "file_extension": ".py",
   "mimetype": "text/x-python",
   "name": "python",
   "nbconvert_exporter": "python",
   "pygments_lexer": "ipython3",
   "version": "3.10.10"
  }
 },
 "nbformat": 4,
 "nbformat_minor": 2
}
