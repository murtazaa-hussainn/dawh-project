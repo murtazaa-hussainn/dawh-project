{
 "cells": [
  {
   "cell_type": "code",
   "execution_count": 3,
   "id": "340109df",
   "metadata": {},
   "outputs": [
    {
     "name": "stdout",
     "output_type": "stream",
     "text": [
      "Billing has been uploaded to DP_OLTP_HEALTHCARE\n",
      "Patient has been uploaded to DP_OLTP_HEALTHCARE\n",
      "PatientSurvey has been uploaded to DP_OLTP_HEALTHCARE\n",
      "Provider has been uploaded to DP_OLTP_HEALTHCARE\n",
      "ProviderSpecialty has been uploaded to DP_OLTP_HEALTHCARE\n",
      "ClinicLocations has been uploaded to DP_OLTP_HEALTHCARE\n"
     ]
    },
    {
     "name": "stderr",
     "output_type": "stream",
     "text": [
      "C:\\Users\\Murtaza.h\\AppData\\Local\\Temp\\ipykernel_21156\\3259914982.py:32: DtypeWarning: Columns (6,8) have mixed types. Specify dtype option on import or set low_memory=False.\n",
      "  df = pd.read_csv(f\"Spaghetti/{table_name}.csv\")\n"
     ]
    },
    {
     "name": "stdout",
     "output_type": "stream",
     "text": [
      "ClinicalReports has been uploaded to DP_OLTP_HEALTHCARE\n",
      "CptCodesLookup has been uploaded to DP_OLTP_HEALTHCARE\n",
      "DiagnosisCodeLookup has been uploaded to DP_OLTP_HEALTHCARE\n"
     ]
    }
   ],
   "source": [
    "import pandas as pd\n",
    "import psycopg2\n",
    "from sqlalchemy import create_engine\n",
    "\n",
    "# Database connection parameters\n",
    "DB_NAME = \"postgres\"\n",
    "DB_USER = \"postgres\"\n",
    "DB_PASSWORD = \"postgres1\"\n",
    "DB_HOST = \"172.17.5.39\"\n",
    "DB_PORT = \"5432\"\n",
    "SCHEMA_NAME = \"DP_OLTP_HEALTHCARE\"\n",
    "\n",
    "# Create a database connection engine\n",
    "engine = create_engine(f\"postgresql://{DB_USER}:{DB_PASSWORD}@{DB_HOST}:{DB_PORT}/{DB_NAME}\")\n",
    "\n",
    "# List of table names\n",
    "table_names = [\n",
    "    \"Billing\",\n",
    "    \"Patient\",\n",
    "    \"PatientSurvey\",\n",
    "    \"Provider\",\n",
    "    \"ProviderSpecialty\",\n",
    "    \"ClinicLocations\",\n",
    "    \"ClinicalReports\",\n",
    "    \"CptCodesLookup\",\n",
    "    \"DiagnosisCodeLookup\"\n",
    "]\n",
    "\n",
    "# Insert data into each table\n",
    "for table_name in table_names:\n",
    "    # Read data from CSV file into a pandas DataFrame\n",
    "    df = pd.read_csv(f\"Spaghetti/{table_name}.csv\")\n",
    "        \n",
    "    # Write DataFrame to PostgreSQL table\n",
    "    df.to_sql(table_name, engine, schema=SCHEMA_NAME, if_exists=\"append\", index=False)\n",
    "    print(f\"{table_name} has been uploaded to {SCHEMA_NAME}\")"
   ]
  }
 ],
 "metadata": {
  "kernelspec": {
   "display_name": "Python 3 (ipykernel)",
   "language": "python",
   "name": "python3"
  },
  "language_info": {
   "codemirror_mode": {
    "name": "ipython",
    "version": 3
   },
   "file_extension": ".py",
   "mimetype": "text/x-python",
   "name": "python",
   "nbconvert_exporter": "python",
   "pygments_lexer": "ipython3",
   "version": "3.12.1"
  }
 },
 "nbformat": 4,
 "nbformat_minor": 5
}
